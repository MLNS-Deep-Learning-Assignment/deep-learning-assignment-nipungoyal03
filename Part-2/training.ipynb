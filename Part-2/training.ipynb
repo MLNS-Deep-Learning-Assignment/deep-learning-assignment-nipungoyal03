{
 "cells": [
  {
   "cell_type": "code",
   "execution_count": 11,
   "id": "ed2acc30",
   "metadata": {},
   "outputs": [],
   "source": [
    "import torch\n",
    "import torch.nn as nn\n",
    "import torch.optim as optim\n",
    "from torch.utils.data import DataLoader, TensorDataset\n",
    "import pandas as pd\n",
    "import numpy as np\n",
    "import matplotlib.pyplot as plt"
   ]
  },
  {
   "cell_type": "code",
   "execution_count": 12,
   "id": "a4bb92fd",
   "metadata": {},
   "outputs": [],
   "source": [
    "def prep(data):\n",
    "    images=data.iloc[:, 1:].values\n",
    "    labels=data.iloc[:, 0].values\n",
    "    \n",
    "    images=images.astype(np.float32) / 255.0\n",
    "    images=images.reshape(-1, 1, 28, 28)\n",
    "    img_tensor=torch.tensor(images)\n",
    "    lab_tensor=torch.tensor(labels, dtype=torch.long)\n",
    "    \n",
    "    dataset = TensorDataset(img_tensor, lab_tensor)\n",
    "    loader=DataLoader(dataset, batch_size=64, shuffle=True)\n",
    "    \n",
    "    return loader"
   ]
  },
  {
   "cell_type": "code",
   "execution_count": 13,
   "id": "5e791679",
   "metadata": {},
   "outputs": [],
   "source": [
    "train_data = pd.read_csv('mnist_train.csv')\n",
    "test_data = pd.read_csv('mnist_test.csv')\n",
    "\n",
    "train_loader = prep(train_data)\n",
    "test_loader = prep(test_data)\n"
   ]
  },
  {
   "cell_type": "code",
   "execution_count": 5,
   "id": "8730dbbe",
   "metadata": {},
   "outputs": [],
   "source": [
    "class CNN(nn.Module):\n",
    "    def __init__(self):\n",
    "        super(CNN, self).__init__()\n",
    "        self.conv1 = nn.Conv2d(1, 32, kernel_size=3, padding=1)  \n",
    "        self.conv2 = nn.Conv2d(32, 64, kernel_size=3, padding=1)  \n",
    "        self.pool = nn.MaxPool2d(2, 2)  \n",
    "        self.fc1 = nn.Linear(64 * 7 * 7, 128) \n",
    "        self.fc2 = nn.Linear(128, 10) \n",
    "\n",
    "    def forward(self, x):\n",
    "        x = self.pool(torch.relu(self.conv1(x)))  \n",
    "        x = self.pool(torch.relu(self.conv2(x)))  \n",
    "        x = x.view(-1, 64 * 7 * 7)  \n",
    "        x = torch.relu(self.fc1(x))  \n",
    "        x = self.fc2(x) \n",
    "        return x"
   ]
  },
  {
   "cell_type": "code",
   "execution_count": 6,
   "id": "45e4e45f",
   "metadata": {},
   "outputs": [],
   "source": [
    "model = CNN()\n",
    "criterion = nn.CrossEntropyLoss() \n",
    "optimizer = optim.Adam(model.parameters(), lr=0.001)"
   ]
  },
  {
   "cell_type": "code",
   "execution_count": 7,
   "id": "fe423133",
   "metadata": {},
   "outputs": [
    {
     "name": "stdout",
     "output_type": "stream",
     "text": [
      "Epoch [1/10], Loss: 0.1910, Accuracy: 94.05%\n",
      "Epoch [2/10], Loss: 0.0519, Accuracy: 98.38%\n",
      "Epoch [3/10], Loss: 0.0364, Accuracy: 98.85%\n",
      "Epoch [4/10], Loss: 0.0275, Accuracy: 99.12%\n",
      "Epoch [5/10], Loss: 0.0215, Accuracy: 99.29%\n",
      "Epoch [6/10], Loss: 0.0163, Accuracy: 99.44%\n",
      "Epoch [7/10], Loss: 0.0128, Accuracy: 99.61%\n",
      "Epoch [8/10], Loss: 0.0122, Accuracy: 99.61%\n",
      "Epoch [9/10], Loss: 0.0096, Accuracy: 99.70%\n",
      "Epoch [10/10], Loss: 0.0082, Accuracy: 99.72%\n"
     ]
    }
   ],
   "source": [
    "epochs = 10\n",
    "losses = [] \n",
    "\n",
    "for epoch in range(epochs):\n",
    "    model.train()  \n",
    "    loss = 0.0\n",
    "    c,t = 0,0\n",
    "    for inputs, labels in train_loader:\n",
    "        optimizer.zero_grad() \n",
    "        \n",
    "        outputs = model(inputs)\n",
    "        loss = criterion(outputs, labels)\n",
    "        \n",
    "        loss.backward()\n",
    "        optimizer.step()\n",
    "        \n",
    "        loss += loss.item()\n",
    "        \n",
    "        _, predicted = torch.max(outputs, 1)\n",
    "        t += labels.size(0)\n",
    "        c += (predicted == labels).sum().item()\n",
    "\n",
    "    avg_loss = loss / len(train_loader)\n",
    "    losses.append(avg_loss)  \n",
    "    print(f\"Epoch [{epoch+1}/{epochs}], Loss: {avg_loss:.4f}, Accuracy: {100 * c / t:.2f}%\")"
   ]
  },
  {
   "cell_type": "code",
   "execution_count": 8,
   "id": "78dfa6c1",
   "metadata": {},
   "outputs": [
    {
     "name": "stdout",
     "output_type": "stream",
     "text": [
      "Test Accuracy: 99.12%\n"
     ]
    }
   ],
   "source": [
    "model.eval()  \n",
    "c = 0\n",
    "t = 0\n",
    "\n",
    "with torch.no_grad():  \n",
    "    for inputs, labels in test_loader:\n",
    "        outputs = model(inputs)\n",
    "        _, predicted = torch.max(outputs, 1)\n",
    "        t += labels.size(0)\n",
    "        c += (predicted == labels).sum().item()\n",
    "\n",
    "print(f\"Test Accuracy: {100 * c / t:.2f}%\")"
   ]
  },
  {
   "cell_type": "code",
   "execution_count": 14,
   "id": "504377ed",
   "metadata": {},
   "outputs": [
    {
     "data": {
      "image/png": "[encoded data removed]",
      "text/plain": [
       "<Figure size 640x480 with 1 Axes>"
      ]
     },
     "metadata": {},
     "output_type": "display_data"
    }
   ],
   "source": [
    "plt.plot(range(1, epochs+1), train_losses, label='Training Loss')\n",
    "plt.xlabel('Epochs')\n",
    "plt.ylabel('Loss')\n",
    "plt.title('Training Loss')\n",
    "plt.legend()\n",
    "plt.show()"
   ]
  },
  {
   "cell_type": "code",
   "execution_count": 10,
   "id": "cfe483b4",
   "metadata": {},
   "outputs": [
    {
     "name": "stdout",
     "output_type": "stream",
     "text": [
      "Model saved to mnist_cnn_model.pth\n"
     ]
    }
   ],
   "source": [
    "torch.save(model.state_dict(), 'mnist_cnn_model.pth')\n",
    "print(\"Model saved to mnist_cnn_model.pth\")"
   ]
  },
  {
   "cell_type": "code",
   "execution_count": null,
   "id": "00cdc7ac",
   "metadata": {},
   "outputs": [],
   "source": []
  },
  {
   "cell_type": "code",
   "execution_count": null,
   "id": "d5ee4e4f",
   "metadata": {},
   "outputs": [],
   "source": []
  }
 ],
 "metadata": {
  "kernelspec": {
   "display_name": "Python 3 (ipykernel)",
   "language": "python",
   "name": "python3"
  },
  "language_info": {
   "codemirror_mode": {
    "name": "ipython",
    "version": 3
   },
   "file_extension": ".py",
   "mimetype": "text/x-python",
   "name": "python",
   "nbconvert_exporter": "python",
   "pygments_lexer": "ipython3",
   "version": "3.9.12"
  }
 },
 "nbformat": 4,
 "nbformat_minor": 5
}
